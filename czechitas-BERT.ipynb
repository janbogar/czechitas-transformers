{
  "cells": [
    {
      "cell_type": "markdown",
      "metadata": {
        "id": "view-in-github",
        "colab_type": "text"
      },
      "source": [
        "<a href=\"https://colab.research.google.com/github/janbogar/czechitas-transformers/blob/main/czechitas-BERT.ipynb\" target=\"_parent\"><img src=\"https://colab.research.google.com/assets/colab-badge.svg\" alt=\"Open In Colab\"/></a>"
      ]
    },
    {
      "cell_type": "markdown",
      "metadata": {
        "id": "COdcar5UEot5"
      },
      "source": [
        "# Transformers for text processing\n",
        "\n",
        "Transformers are neural networks that changed how we model sequential data.\n",
        "\n",
        "There are many kinds of data that are sequential in nature, for example time series, but i.e. text is also just a sequence of words.\n",
        "\n",
        "State of the art in these areas used to be recurrent neural networks. They work by taking as an input not just an item in the sequence, but also the output of the network on the previous item. This way, the output of the network can contain the memmory of what happened previously.\n",
        "\n",
        "The problem with recurrent neural networks was difficulty of training them in parallel. They also had trouble learning relationships between words that were far away from each other.\n",
        "\n",
        "Transformers work quite differently. All of the sequence is shown to the network at once, and a special architecture called attention head (transformers usually have multiple) predict to which parts of sentence should the network pay attention when processing each word.\n",
        "\n",
        "Famous transformer-based language models are e.g. BERT and GPT3, but there are many more variants, such as RoBERTa, ALBERT, or ELECTRA.\n",
        "\n",
        "# Model\n",
        "In this notebook we will use BERT model trained and published by researches at  West Bohemia University. The model is called Czert and the authors experimented with it on many tasks:\n",
        " - Sequence Classification (**Sentiment Classification**, Multi-label Document Classification)\n",
        " - Sequence Pair Classification (Semantic Text Similarity)\n",
        " -Token Classification (Morphological Tagging, Named Entity Recognition,\n",
        "Semantic Role Labeling)\n",
        "\n",
        "The model:\n",
        "https://huggingface.co/UWB-AIR/Czert-B-base-cased\n",
        "\n",
        "The paper:\n",
        "https://arxiv.org/pdf/2103.13031.pdf\n",
        "\n",
        "# Sentiment analysis\n",
        "\n",
        "In this notebook, we will use the model trained specifically for sentiment analysis. In sentiment analysis, model attempts to classify short texts (oftne social media statuses or customer reviews) as either positive, negative or neutral.\n",
        "\n",
        "Thee authors published two versions of the model, one trained on reviews from www.csfd.cz and other trained on facebook statuses. Both datasets are available on their webpage.\n",
        "\n",
        "The authors claim, that this model had F1 score of\n",
        "77%  on CSFD data and 85% percent on FB data, which they claim are better than the state of the art before this model.\n",
        "F1 score is hard to interpret without knowledge of precission and recall metrics, but for now, let's just say it corresponds somehow to the accuracy of the model.\n",
        "\n",
        "If the model has 75% accuracy, it still makes an error in one quarter of cases. That means that there is still a huge potential for error.\n",
        "\n",
        "In following cells, we will download this model and try to use it."
      ]
    },
    {
      "cell_type": "markdown",
      "metadata": {
        "id": "KbEbmQinG2OY"
      },
      "source": [
        "## Install dependencies"
      ]
    },
    {
      "cell_type": "code",
      "execution_count": 384,
      "metadata": {
        "id": "uJMC7riyHlHt"
      },
      "outputs": [],
      "source": [
        "!pip install certifi\n",
        "!pip install transformers\n",
        "!pip install sentencepiece"
      ]
    },
    {
      "cell_type": "markdown",
      "metadata": {
        "id": "2TIoBmL3G72S"
      },
      "source": [
        "**!! Restart runtime after installing !!**\n",
        "\n",
        "Go to the top of the page, press 'Runtime\" and select \"Restart runtime\".\n",
        "\n",
        "## Download model\n",
        "There are two variants of the model, we will download the one trained on FB data and unzip it."
      ]
    },
    {
      "cell_type": "code",
      "execution_count": 385,
      "metadata": {
        "colab": {
          "base_uri": "https://localhost:8080/"
        },
        "id": "_i4GED7la5y2",
        "outputId": "b3bf1ec5-9fef-4cd1-f84e-8be5eb1da502"
      },
      "outputs": [
        {
          "name": "stdout",
          "output_type": "stream",
          "text": [
            "--2022-11-29 11:34:07--  https://air.kiv.zcu.cz/public/CZERT-B_fb.zip\n",
            "Resolving air.kiv.zcu.cz (air.kiv.zcu.cz)... 147.228.63.35\n",
            "Connecting to air.kiv.zcu.cz (air.kiv.zcu.cz)|147.228.63.35|:443... connected.\n",
            "HTTP request sent, awaiting response... 200 OK\n",
            "Length: 406510308 (388M) [application/zip]\n",
            "Saving to: ‘CZERT-B_fb.zip.2’\n",
            "\n",
            "CZERT-B_fb.zip.2    100%[===================>] 387.68M  23.9MB/s    in 20s     \n",
            "\n",
            "2022-11-29 11:34:28 (19.7 MB/s) - ‘CZERT-B_fb.zip.2’ saved [406510308/406510308]\n",
            "\n"
          ]
        }
      ],
      "source": [
        "\n",
        "\n",
        "#!wget https://air.kiv.zcu.cz/public/CZERT-B_csfd.zip\n",
        "!wget https://air.kiv.zcu.cz/public/CZERT-B_fb.zip"
      ]
    },
    {
      "cell_type": "code",
      "execution_count": 386,
      "metadata": {
        "colab": {
          "base_uri": "https://localhost:8080/"
        },
        "id": "ygk6MRCIa--G",
        "outputId": "47342162-3c69-4749-fd0c-2198730345f1"
      },
      "outputs": [
        {
          "name": "stdout",
          "output_type": "stream",
          "text": [
            "Archive:  CZERT-B_csfd.zip\n",
            "replace CZERT-B_csfd_BS-14_EC-12_LR-0-0000200_LEN-512_SCH-linear_wrp_CPU-False_TRAIN-True_CUST_LAYER-False_BINARY-False_2020-12-06_10-30_07-494882_F1-0.8467/config.json? [y]es, [n]o, [A]ll, [N]one, [r]ename: "
          ]
        }
      ],
      "source": [
        "!unzip CZERT-B_fb.zip"
      ]
    },
    {
      "cell_type": "markdown",
      "metadata": {
        "id": "e423bsPjKsZm"
      },
      "source": [
        "# Load the model\n",
        "This model is implemented as a HuggingFace transformer. \n",
        "This means they have a very convenient API and can be easily loaded and reused.\n",
        "I highly recommend their course at:\n",
        "https://huggingface.co/course/chapter1/1"
      ]
    },
    {
      "cell_type": "code",
      "execution_count": 387,
      "metadata": {
        "id": "vyrXlWYEHyHb"
      },
      "outputs": [],
      "source": [
        "from transformers import AutoTokenizer, BertForSequenceClassification\n",
        "import tensorflow\n",
        "\n",
        "#model_path=\"CZERT-B_csfd_BS-14_EC-12_LR-0-0000200_LEN-512_SCH-linear_wrp_CPU-False_TRAIN-True_CUST_LAYER-False_BINARY-False_2020-12-06_10-30_07-494882_F1-0.8467/\"\n",
        "model_path=\"CZERT-B_fb_BS-32_EC-12_LR-0-0000020_LEN-64_SCH-linear_wrp_CPU-True_TRAIN-True_CUST_LAYER-False_BINARY-False_2020-11-30_13-00_40-335326_F1-0.7598\"\n",
        "\n",
        "model = BertForSequenceClassification.from_pretrained(model_path)\n",
        "tokenizer = AutoTokenizer.from_pretrained(model_path)"
      ]
    },
    {
      "cell_type": "markdown",
      "metadata": {
        "id": "zXDOi4ZOLTay"
      },
      "source": [
        "## What is a tokenizer\n",
        "\n",
        "Neural networks accept as an input vectors or matrices of numbers, so we need to turn texts, that wee want to input into the model, into numbers.\n",
        "\n",
        "Tokenizer is a program that does that. It splits the data into tokens and then assigns each token a number.\n",
        "\n",
        "How to best tokenize text is not a simple question.\n",
        "Transformers usually use sub-word tokenization. Here is an example:\n"
      ]
    },
    {
      "cell_type": "code",
      "execution_count": 395,
      "metadata": {
        "colab": {
          "base_uri": "https://localhost:8080/"
        },
        "id": "C29Q_Bn3LSnu",
        "outputId": "85ff4575-2aba-42e1-d1c5-2e5ef16deb64"
      },
      "outputs": [
        {
          "name": "stdout",
          "output_type": "stream",
          "text": [
            "tokens: '[CLS]' 'za' 'hory' ',' 'za' 'dol' '##y' ',' 'me' 'zlat' '##e' 'par' '##oh' '##y' '[SEP]'\n",
            "encoding:  [2, 1967, 12378, 16, 1967, 10864, 1036, 16, 2913, 7218, 1011, 2667, 2596, 1036, 3]\n"
          ]
        }
      ],
      "source": [
        "sentence = \"Za hory, za doly, mé zlaté parohy\"\n",
        "sentence_tokens = [\"[CLS]\"] + tokenizer.tokenize(sentence) + [\"[SEP]\"]\n",
        "sentence_encoding=tokenizer.encode(sentence)\n",
        "print(\"tokens:\" ,\" \".join([f\"\\'{i}\\'\" for i in sentence_tokens]))   \n",
        "print(\"encoding: \",sentence_encoding)\n"
      ]
    },
    {
      "cell_type": "markdown",
      "metadata": {
        "id": "lZJQL6rHMe7o"
      },
      "source": [
        "The tokenizer split some words and added special tokens and marks:\n",
        " - `[CLS]` token is always added at the start of text. Transformer outputs one vector per each token, and the vector for `[CLS]` token is used for classification of whole sentences\n",
        "\n",
        "- `[SEP]` token: transformers are also trained on tasks inlcuding relationship of multiple texts. In that case, texts are separated by this special token.\n",
        "\n",
        "- `[PAD]` token was not used in this case, but if there is a need to make multiple sequences the same length, the unused space is filled with `[PAD]` tokens.\n",
        "\n",
        "- `##oh` token: the word `parohy` was split into tokens `par`,`oh` and `y`. To signify that the tokens `oh` and `y` were not  at the start of the word, they are prepended with `##`\n",
        "\n",
        "After splitting the text and adding special tokens, every token is turned into a number, based on it's position in the vocabulary- the document containing all tokens known to the document. If some token is unknown, it's replaced with a special token `[UNK]`. This file was downloaded with the model, and in this case contains one word per line, so if we want to see how many words it contains, we just count the lines in it:\n"
      ]
    },
    {
      "cell_type": "code",
      "execution_count": 399,
      "metadata": {
        "colab": {
          "base_uri": "https://localhost:8080/"
        },
        "id": "1uOVoCLgPBur",
        "outputId": "438510ea-cd6e-4436-f8a0-5f70b07294c2"
      },
      "outputs": [
        {
          "name": "stdout",
          "output_type": "stream",
          "text": [
            "30000 CZERT-B_fb_BS-32_EC-12_LR-0-0000020_LEN-64_SCH-linear_wrp_CPU-True_TRAIN-True_CUST_LAYER-False_BINARY-False_2020-11-30_13-00_40-335326_F1-0.7598/vocab.txt\n"
          ]
        }
      ],
      "source": [
        "!wc -l CZERT-B_fb_BS-32_EC-12_LR-0-0000020_LEN-64_SCH-linear_wrp_CPU-True_TRAIN-True_CUST_LAYER-False_BINARY-False_2020-11-30_13-00_40-335326_F1-0.7598/vocab.txt"
      ]
    },
    {
      "cell_type": "markdown",
      "metadata": {
        "id": "2xaZy7fEPP-E"
      },
      "source": [
        "Here are the last 10 tokens in the vocabulray"
      ]
    },
    {
      "cell_type": "code",
      "execution_count": 403,
      "metadata": {
        "colab": {
          "base_uri": "https://localhost:8080/"
        },
        "id": "uGXt5PTpPJKK",
        "outputId": "68eba2f7-6191-4f7f-df5a-d240f4a046d8"
      },
      "outputs": [
        {
          "name": "stdout",
          "output_type": "stream",
          "text": [
            "záchranář\n",
            "zahrála\n",
            "repr\n",
            "Britská\n",
            "stěže\n",
            "izp\n",
            "řešíme\n",
            "##váří\n",
            "##natý\n",
            "Jerem\n"
          ]
        }
      ],
      "source": [
        "! tail -n 10 CZERT-B_fb_BS-32_EC-12_LR-0-0000020_LEN-64_SCH-linear_wrp_CPU-True_TRAIN-True_CUST_LAYER-False_BINARY-False_2020-11-30_13-00_40-335326_F1-0.7598/vocab.txt"
      ]
    },
    {
      "cell_type": "markdown",
      "metadata": {
        "id": "56YW0johPDa5"
      },
      "source": [
        "# Using the model\n",
        "\n",
        "Now that we know how to preprocess text, let's try the model on some examples"
      ]
    },
    {
      "cell_type": "code",
      "execution_count": 197,
      "metadata": {
        "colab": {
          "base_uri": "https://localhost:8080/"
        },
        "id": "964a4mMdTxTj",
        "outputId": "66ed8451-1604-493e-d1dd-c04e97a7e578"
      },
      "outputs": [
        {
          "name": "stdout",
          "output_type": "stream",
          "text": [
            "Raw sentences:\n",
            " ['Pivo je skvělý', 'Pivo příšerně páchne, fuj', 'Nic extra, dávam tomuhle pivu 50 procent']\n",
            "\n",
            "Input of the model after tokenization:\n",
            " {'input_ids': tensor([[    2, 10671,  1955, 15584,  3312,     3,     0,     0,     0,     0,\n",
            "             0,     0,     0],\n",
            "        [    2, 10671, 10769,  9930,  2121,  2371,  1928,  2121,    16, 11293,\n",
            "          1026,     3,     0],\n",
            "        [    2,  2806,  7717,    16, 10203,  2058,  2555,  3045,  8828,  1025,\n",
            "          3784,  2662,     3]]), 'token_type_ids': tensor([[0, 0, 0, 0, 0, 0, 0, 0, 0, 0, 0, 0, 0],\n",
            "        [0, 0, 0, 0, 0, 0, 0, 0, 0, 0, 0, 0, 0],\n",
            "        [0, 0, 0, 0, 0, 0, 0, 0, 0, 0, 0, 0, 0]]), 'attention_mask': tensor([[1, 1, 1, 1, 1, 1, 0, 0, 0, 0, 0, 0, 0],\n",
            "        [1, 1, 1, 1, 1, 1, 1, 1, 1, 1, 1, 1, 0],\n",
            "        [1, 1, 1, 1, 1, 1, 1, 1, 1, 1, 1, 1, 1]])}\n",
            "\n",
            "Output of the model:\n",
            " SequenceClassifierOutput(loss=None, logits=tensor([[-2.2228,  2.8640, -0.0896],\n",
            "        [ 3.1193, -1.7482, -1.2261],\n",
            "        [ 2.9125, -1.9394, -0.6491]], grad_fn=<AddmmBackward0>), hidden_states=None, attentions=None)\n"
          ]
        }
      ],
      "source": [
        "test_strings = [\"Pivo je skvělý\",\"Pivo příšerně páchne, fuj\",\"Nic extra, dávam tomuhle pivu 50 procent\"]\n",
        "\n",
        "print(\"Raw sentences:\\n\",test_strings)\n",
        "tokenized_inputs = tokenizer(test_strings, return_tensors=\"pt\", padding=True)\n",
        "print(\"\\nInput of the model after tokenization:\\n\", tokenized_inputs)\n",
        "\n",
        "outputs = model(**tokenized_inputs)\n",
        "print(\"\\nOutput of the model:\\n\", outputs)"
      ]
    },
    {
      "cell_type": "markdown",
      "metadata": {
        "id": "c1boirDMPous"
      },
      "source": [
        "The output of the model contains a matrix of numbers called logits.\n",
        "Logits are numbers between -infinity and +infinity that represent probability. They can be turned into probability by a softmax function."
      ]
    },
    {
      "cell_type": "code",
      "execution_count": 198,
      "metadata": {
        "colab": {
          "base_uri": "https://localhost:8080/"
        },
        "id": "vE2ch4Pei4Zm",
        "outputId": "b81a5afa-f1b3-4e0d-cebc-2b43e4eb8582"
      },
      "outputs": [
        {
          "name": "stderr",
          "output_type": "stream",
          "text": [
            "/usr/local/lib/python3.7/dist-packages/ipykernel_launcher.py:2: UserWarning: Implicit dimension choice for softmax has been deprecated. Change the call to include dim=X as an argument.\n",
            "  \n"
          ]
        },
        {
          "data": {
            "text/plain": [
              "tensor([[0.0058, 0.9449, 0.0493],\n",
              "        [0.9798, 0.0075, 0.0127],\n",
              "        [0.9651, 0.0075, 0.0274]], grad_fn=<SoftmaxBackward0>)"
            ]
          },
          "execution_count": 198,
          "metadata": {},
          "output_type": "execute_result"
        }
      ],
      "source": [
        "from torch.nn.functional import softmax\n",
        "softmax(outputs.logits)  #turn into probabilities (so they are between 0 and 1 and sum into 1)"
      ]
    },
    {
      "cell_type": "markdown",
      "metadata": {
        "id": "uBzXV_p0Rz70"
      },
      "source": [
        "Each row in this matrix is prediction for one input text. There are three numbers for each text:\n",
        " - probabbility of text being negative\n",
        " - probabbility of text being positive\n",
        " - probabbility of text being neutral\n",
        "\n",
        "You can check yourself that they add to 1.\n",
        "\n",
        "\n",
        "We will gather all of this code into one function, that will accept a list of texts and will make a prediction for each one.\n",
        "I also wrote a function that will print the prediction nicely."
      ]
    },
    {
      "cell_type": "code",
      "execution_count": 426,
      "metadata": {
        "id": "QbK7Ao-WeQF_"
      },
      "outputs": [],
      "source": [
        "import numpy as np\n",
        "\n",
        "id2label={0:\"negative\",1:\"positive\",2:\"neutral\"}\n",
        "label2id={v:k for k,v in id2label.items()}\n",
        "\n",
        "def get_predictions(texts):\n",
        "  for text in texts:\n",
        "    tokens=tokenizer(text, return_tensors=\"pt\",truncation=\"only_first\",max_length=512)\n",
        "    model_output=model(**tokens)\n",
        "    probabilities=softmax(model_output.logits[0],dim=0).detach().numpy()\n",
        "    highest_probability=np.argmax(probabilities)\n",
        "    yield {\"text\":text,                                                          # input text\n",
        "           \"probabilities\":{k:probabilities[v] for k,v in label2id.items()},     # probabilities of each class (neegative,positive and neutral)\n",
        "           \"prediction\":id2label[highest_probability],                           # prediction: the label of the class with highest probability\n",
        "           \"prediction_confidence\":probabilities[highest_probability]}           # prediction confidence: the probability of the class with the highest probability\n",
        "\n",
        "def print_predictions(predictions):\n",
        "   for i in predictions:\n",
        "       print(f\"{i['prediction']} ({i['prediction_confidence']:.2f}): \\\"{i['text']}\\\"\")"
      ]
    },
    {
      "cell_type": "code",
      "execution_count": 419,
      "metadata": {
        "colab": {
          "base_uri": "https://localhost:8080/"
        },
        "id": "ImBe0q5JluG9",
        "outputId": "14ab3251-d23f-448b-e718-ec5687b0cf23"
      },
      "outputs": [
        {
          "name": "stdout",
          "output_type": "stream",
          "text": [
            "positive (0.93): \"tohle je skvele, nejradeji bych to delal cely den\"\n",
            "negative (0.98): \"je to hrozna otrava, nejradeji bych to zakazal\"\n",
            "neutral (0.70): \"davam 50 procent, neurazi\"\n"
          ]
        }
      ],
      "source": [
        "example_texts=[\"tohle je skvele, nejradeji bych to delal cely den\",\"je to hrozna otrava, nejradeji bych to zakazal\",\"davam 50 procent, neurazi\"]\n",
        "\n",
        "print_predictions(get_predictions(example_texts))"
      ]
    },
    {
      "cell_type": "markdown",
      "metadata": {
        "id": "GejyBob2mv-k"
      },
      "source": [
        "## Excercise 1\n",
        "\n",
        "Use the code in the previous sentence to find sentences that will fool the model in these ways:\n",
        " - they will output negative if the sentence is positive\n",
        " - they will output positive if the sentence is negative\n",
        " - they will output neutral if the sentence is either positive or negative\n",
        " - they will output positive or negative if the sentence is neutral\n",
        "\n",
        "Which is hardest. Which is harder, to fool the model if the text is long or short?"
      ]
    },
    {
      "cell_type": "code",
      "execution_count": 345,
      "metadata": {
        "id": "TFeIzKf7n5dc"
      },
      "outputs": [],
      "source": [
        "#do the excercise!"
      ]
    },
    {
      "cell_type": "markdown",
      "metadata": {
        "id": "ZsW-iTmfXold"
      },
      "source": [
        "# Let's watch politicians\n",
        "\n",
        "Let's use this model for good: monitoring politicians.\n",
        "\n",
        "We can try to classify their posts on social media as positive, negative and neutral. Maybe that can tell us us something about their authors.\n",
        "\n",
        "# Where to get data\n",
        "\n",
        "Luckily, there is a webpage called Hlidaci Statu, which collected a huge dataset of social media interractions of czech politicians (and many other usefull datasets).\n",
        "\n",
        "In the next few cells, we will write a function that will download their data.\n",
        "\n",
        "To acces it though, you need to register with your google account.\n",
        "\n",
        "Here are the steps:\n",
        " - Go to https://www.hlidacstatu.cz/Identity/Account/Login?returnUrl=/\n",
        " - Login with google account\n",
        " - After loging in, click on your profile (top right corner)\n",
        " - In the menu at left, click on \"API klic\"\n",
        " - Copy the key value into the next cell"
      ]
    },
    {
      "cell_type": "code",
      "execution_count": 346,
      "metadata": {
        "id": "Qvbtaaz_uGJj"
      },
      "outputs": [],
      "source": [
        "auth_key=\"blablabla here is your API key\""
      ]
    },
    {
      "cell_type": "markdown",
      "metadata": {
        "id": "GWTe480AdXo_"
      },
      "source": [
        "This code uses the requests library to access the web API of Hlidaci Statu and downloads one page of posts of Petr Fiala he made on Facebook.\n",
        "Pay attention to the params argument.\n",
        "\n",
        "We print first 10 texts."
      ]
    },
    {
      "cell_type": "code",
      "execution_count": 347,
      "metadata": {
        "id": "aqTMnxDkX31X"
      },
      "outputs": [],
      "source": [
        "import requests as rq"
      ]
    },
    {
      "cell_type": "code",
      "execution_count": 436,
      "metadata": {
        "colab": {
          "base_uri": "https://localhost:8080/"
        },
        "id": "LKRYgTxmuCUQ",
        "outputId": "43d6c778-ed64-4a57-f886-aa67821e9081"
      },
      "outputs": [
        {
          "data": {
            "text/plain": [
              "['',\n",
              " 'Děkuji za jednomyslnou nominaci na předsedu ODS delegátům jihočeské ODS. Gratuluji Martinu Kubovi k jasnému obhájení pozice předsedy regionu. Jihočeská ODS získala v nedávných parlamentních volbách nadprůměrný výsledek. V Janu Zahradníkovi a nově i v Janu Bauerovi mají jihočeští voliči výborné zástupce v Poslanecké sněmovně, kteří dobře reprezentují naši politiku.',\n",
              " 'Dnes se snaží Listopad 89 využít ve svůj prospěch různí populisté, extremisté, komunisté a dokonce bývalí agenti StB. Nedovolme jim to. \\n\\nPřipomínejme si, co se tehdy skutečně dělo, mluvme s lidmi, kteří si tu dobu pamatují, kteří se revoluce aktivně účastnili. Proto pořádáme sérii diskuzí na mnoha místech naší země. \\n\\nRád se s Vámi uvidím například 9. října v Praze. https://www.ods.cz/30-let-svobody/setkani',\n",
              " '\"Letní interview\" s moderátorkou Michaelou Šmídovou. Neobvyklé prostředí s krásným výhledem na Prahu, ale mluvili jsme hodně o Brně a o Moravě. :-) Kromě politiky jsme si povídali třeba o italské kuchyni, tenisu, víně, slivovici, prostě o spoustě příjemných věcí. Můžete sledovat dnes večer ve 22:50 na TV Nova.',\n",
              " 'Lipová na Děčínsku se o víkendu stala letošní vesnicí roku 2019. Proto jsem dnes telefonicky pogratuloval jejímu starostovi Pavlu Svobodovi. \\n\\nPan starosta v posledních komunálních volbách vedl v Lipové kandidátku ODS, která zvítězila se ziskem takřka 60 % hlasů. Další důkaz, že to v Lipové dělají dobře. ;-)']"
            ]
          },
          "execution_count": 436,
          "metadata": {},
          "output_type": "execute_result"
        }
      ],
      "source": [
        "response=rq.get(\"https://api.hlidacstatu.cz/Api/v2/datasety/vyjadreni-politiku/hledat\",params={'dotaz':\"server:Facebook AND osobaid:petr-fiala\",\"strana\":1},headers={\"Authorization\":auth_key})\n",
        "results=response.json()[\"results\"]\n",
        "texts=[i[\"text\"] for i in results]\n",
        "texts[:5]"
      ]
    },
    {
      "cell_type": "markdown",
      "metadata": {
        "id": "0hFLoWJ3d9VN"
      },
      "source": [
        "We can wrap this up as a function.\n",
        "This function downloads 300 latest Facebook posts of a chosen politician from the database.\n",
        "\n",
        "The name of a politician must be lovercased and spaces are exchanged for a `-` sign.\n",
        "\n",
        "So \"andrej-babis\" instead of \"Andrej Babis\""
      ]
    },
    {
      "cell_type": "code",
      "execution_count": 414,
      "metadata": {
        "id": "rk-DpUfpZxYk"
      },
      "outputs": [],
      "source": [
        "def get_page(name,page):\n",
        "  response=rq.get(\"https://api.hlidacstatu.cz/Api/v2/datasety/vyjadreni-politiku/hledat\",params={'dotaz':f\"server:Facebook AND osobaid:{name}\",\"strana\":{page},\"sort\":\"datum\",\"desc\":1},headers={\"Authorization\":auth_key})\n",
        "  return response.json()\n",
        "\n",
        "def get_texts(name,at_most=300):\n",
        "  \"\"\"\n",
        "  Download 300 newest posts of a politician in the database. Selects only posts made to Facebook.\n",
        "  \"\"\"\n",
        "  current_page=0\n",
        "  texts=[]\n",
        "  \n",
        "  page=get_page(name,current_page)\n",
        "  total_in_database=page[\"total\"]\n",
        "  print(\"total in database: \",total_in_database)\n",
        "\n",
        "  texts+=[i['text'] for i in page[\"results\"]]\n",
        "  print(f\"page: {current_page}, texts_so_far: {len(texts)}\")\n",
        "  \n",
        "  while not (len(texts)>=at_most or len(texts)>=total_in_database):\n",
        "    current_page+=1\n",
        "    page=get_page(name,current_page)\n",
        "    texts+=[i['text'] for i in page[\"results\"]]\n",
        "    print(f\"page: {current_page}, texts_so_far: {len(texts)}\")\n",
        "  \n",
        "  if len(texts)>at_most:\n",
        "    texts=texts[:at_most]\n",
        "  return texts"
      ]
    },
    {
      "cell_type": "markdown",
      "metadata": {
        "id": "GmYKyLuGehyk"
      },
      "source": [
        "Let's download the texts"
      ]
    },
    {
      "cell_type": "code",
      "execution_count": 434,
      "metadata": {
        "colab": {
          "base_uri": "https://localhost:8080/"
        },
        "id": "FfAvUXttZyNA",
        "outputId": "97a01335-affe-43c6-e819-d8385f066675"
      },
      "outputs": [
        {
          "name": "stdout",
          "output_type": "stream",
          "text": [
            "total in database:  10308\n",
            "page: 0, texts_so_far: 25\n",
            "page: 1, texts_so_far: 50\n",
            "page: 2, texts_so_far: 75\n",
            "page: 3, texts_so_far: 100\n",
            "page: 4, texts_so_far: 125\n",
            "page: 5, texts_so_far: 150\n",
            "page: 6, texts_so_far: 175\n",
            "page: 7, texts_so_far: 200\n",
            "page: 8, texts_so_far: 225\n",
            "page: 9, texts_so_far: 250\n",
            "page: 10, texts_so_far: 275\n",
            "page: 11, texts_so_far: 300\n"
          ]
        }
      ],
      "source": [
        "name=\"andrej-babis\"\n",
        "texts=get_texts(name)\n"
      ]
    },
    {
      "cell_type": "markdown",
      "metadata": {
        "id": "aPKbsuK4fvi4"
      },
      "source": [
        "Now let's use the model to process these texts. The cell can run up to a few minutes."
      ]
    },
    {
      "cell_type": "code",
      "execution_count": 424,
      "metadata": {
        "colab": {
          "base_uri": "https://localhost:8080/"
        },
        "id": "dvWw2rio1t96",
        "outputId": "fa9f3d61-8432-4f79-e116-c752f3d65aa2"
      },
      "outputs": [
        {
          "name": "stderr",
          "output_type": "stream",
          "text": [
            "processing texts: 100%|██████████| 300/300 [01:06<00:00,  4.51it/s]\n"
          ]
        }
      ],
      "source": [
        "from tqdm import tqdm   # for a nice progress bar\n",
        "\n",
        "predictions=list(tqdm(get_predictions(texts),total=len(texts),desc=\"processing texts\"))"
      ]
    },
    {
      "cell_type": "code",
      "execution_count": 432,
      "metadata": {
        "colab": {
          "base_uri": "https://localhost:8080/"
        },
        "id": "N8pGiQJqhIxb",
        "outputId": "d48eecc9-36d8-4f44-f15f-c0e06ee1e75f"
      },
      "outputs": [
        {
          "name": "stdout",
          "output_type": "stream",
          "text": [
            "positive (0.53): \"Je Nový rok. Velký svátek naší země a nás všech. A já mám něco na srdci ❤️\"\n",
            "neutral (0.98): \"Ode mě pro Vás. Můj neuvěřitelný rok 2021 ve fotkách. Třeba se tam najdete ❤️\"\n",
            "neutral (0.97): \"Kupuju obytňák!\"\n",
            "neutral (0.97): \"Kupuju obytňák!\"\n",
            "neutral (0.79): \"Je to tady. Kupuju obytňák!\"\n"
          ]
        }
      ],
      "source": [
        "print_predictions(predictions[:5])   # the latest posts in the database are from the end of 2021"
      ]
    },
    {
      "cell_type": "markdown",
      "metadata": {
        "id": "ubW54ntjf12h"
      },
      "source": [
        "In the next cell, let's tak a look at probability distribution of confidences of predicted labels."
      ]
    },
    {
      "cell_type": "code",
      "execution_count": 433,
      "metadata": {
        "colab": {
          "base_uri": "https://localhost:8080/",
          "height": 387
        },
        "id": "ezx9XXJX136L",
        "outputId": "746a759c-95aa-4c81-d832-f5720f684481"
      },
      "outputs": [
        {
          "data": {
            "text/plain": [
              "<seaborn.axisgrid.FacetGrid at 0x7fe2b2aabf90>"
            ]
          },
          "execution_count": 433,
          "metadata": {},
          "output_type": "execute_result"
        },
        {
          "data": {
            "image/png": "[encoded data removed]",
            "text/plain": [
              "<Figure size 1080x360 with 3 Axes>"
            ]
          },
          "metadata": {
            "needs_background": "light"
          },
          "output_type": "display_data"
        }
      ],
      "source": [
        "import seaborn as sb\n",
        "import pandas as pd\n",
        "sb.displot(pd.DataFrame(predictions),x=\"prediction_confidence\",col=\"prediction\")"
      ]
    },
    {
      "cell_type": "markdown",
      "metadata": {
        "id": "rQd-x23zib6k"
      },
      "source": [
        "Looks like the model is usually only confident about neutral predictions of Andrej Babis (most such predictions have high confidence) and much less confident about the positive and negagtive predictions.\n",
        "\n",
        "------\n",
        "## Question 1:\n",
        "\n",
        "Is this because of the data (positive and negative statements are written in relatively neutral way, compared to the training data), or is it because of the model (model is somehow biasad towards neutral models)?\n",
        "\n",
        "How could we find out?\n",
        "\n",
        "-------\n",
        "\n",
        "Let's select most positive and most negative statements:\n",
        "\n",
        "------\n",
        "## Question 2:\n",
        "\n",
        "These are the statements where the model was most confident about prediction. Is it the same thing as actually being \"most positive and most negative\".\n",
        "\n",
        "What would we need to do to get these answers from the model?\n",
        "\n",
        "-------\n",
        "\n"
      ]
    },
    {
      "cell_type": "code",
      "execution_count": 365,
      "metadata": {
        "colab": {
          "base_uri": "https://localhost:8080/"
        },
        "id": "cD7c7buU6zsl",
        "outputId": "1ff82b29-4fbb-4547-c364-43cf1ca3b799"
      },
      "outputs": [
        {
          "name": "stdout",
          "output_type": "stream",
          "text": [
            "the most positive:  {'text': 'Je tady fajn 🚴\\u200d♀️😂', 'probabilities': {'negative': 0.002989267, 'positive': 0.9914219, 'neutral': 0.0055887965}, 'prediction': 'positive', 'prediction_confidence': 0.9914219}\n",
            "the most negative:  {'text': 'Už to do zítra nevydržím, tady to máte.', 'probabilities': {'negative': 0.9691094, 'positive': 0.003227884, 'neutral': 0.027662616}, 'prediction': 'negative', 'prediction_confidence': 0.9691094}\n"
          ]
        }
      ],
      "source": [
        "print(\"the most positive: \", max([i for i in predictions if i[\"prediction\"]==\"positive\"],key=lambda x: x[\"prediction_confidence\"]))\n",
        "print(\"the most negative: \", max([i for i in predictions if i[\"prediction\"]==\"negative\"],key=lambda x: x[\"prediction_confidence\"]))"
      ]
    },
    {
      "cell_type": "markdown",
      "metadata": {
        "id": "R_zl2kjdlNdX"
      },
      "source": [
        "Let's look at the overal number of posts that are positive or negative.\n",
        "\n",
        "We will select a threshold of 0.9 as a threshold, above which we trust the model.\n",
        "If the confidence is lower, we leave the post unclassified."
      ]
    },
    {
      "cell_type": "code",
      "execution_count": 437,
      "metadata": {
        "colab": {
          "base_uri": "https://localhost:8080/",
          "height": 283
        },
        "id": "HKWbPP1cCD6-",
        "outputId": "5a0fb1b3-fa0c-4728-8d54-dba1e79832d4"
      },
      "outputs": [
        {
          "data": {
            "text/plain": [
              "<BarContainer object of 4 artists>"
            ]
          },
          "execution_count": 437,
          "metadata": {},
          "output_type": "execute_result"
        },
        {
          "data": {
            "image/png": "[encoded data removed]",
            "text/plain": [
              "<Figure size 432x288 with 1 Axes>"
            ]
          },
          "metadata": {
            "needs_background": "light"
          },
          "output_type": "display_data"
        }
      ],
      "source": [
        "from matplotlib import pyplot as plt\n",
        "threshold=0.9\n",
        "only_confident=[i[\"prediction\"] for i in predictions if i[\"prediction_confidence\"]>threshold]\n",
        "labels,counts=np.unique(only_confident,return_counts=True)\n",
        "counts=list(counts)\n",
        "labels=list(labels)\n",
        "counts+=[len(predictions)-len(only_confident)]\n",
        "labels+=[\"unclassified\"]\n",
        "plt.ylabel(\"counts\")\n",
        "plt.title(name)\n",
        "plt.bar(labels,counts)"
      ]
    },
    {
      "cell_type": "markdown",
      "metadata": {
        "id": "Zl0V-U7RlidI"
      },
      "source": [
        "## Question 3\n",
        "What does this plot say?\n",
        "Does it match your expectations?\n",
        "Is the model good enough for us to make conclusions about the author of these posts?\n",
        "\n",
        "## Excercise 2\n",
        "In the next cell, see the results for another politician of your choice. Are they different?\n",
        "Post your resulst (plots, not texts) into the gallery with the name of the politician."
      ]
    },
    {
      "cell_type": "code",
      "execution_count": null,
      "metadata": {
        "colab": {
          "base_uri": "https://localhost:8080/"
        },
        "id": "UctFch8-EXAz",
        "outputId": "18334255-ac79-4ccc-9b9f-ebce970f6a64"
      },
      "outputs": [],
      "source": [
        "name=\"jozko-mrkvicka\"\n",
        "texts=get_texts(name)\n",
        "predictions=list(tqdm(get_predictions(texts),total=len(texts),desc=\"processing texts\"))\n",
        "\n",
        "sb.displot(pd.DataFrame(predictions),x=\"prediction_confidence\",col=\"prediction\")\n",
        "plt.show()\n",
        "\n",
        "threshold=0.9\n",
        "only_confident=[i[\"prediction\"] for i in predictions if i[\"prediction_confidence\"]>threshold]\n",
        "labels,counts=np.unique(only_confident,return_counts=True)\n",
        "counts=list(counts)\n",
        "labels=list(labels)\n",
        "counts+=[len(predictions)-len(only_confident)]\n",
        "labels+=[\"unclassified\"]\n",
        "plt.ylabel(\"counts\")\n",
        "plt.title(name)\n",
        "plt.bar(labels,counts)\n",
        "plt.show()\n",
        "\n",
        "print(\"the most positive: \", max([i for i in predictions if i[\"prediction\"]==\"positive\"],key=lambda x: x[\"prediction_confidence\"]))\n",
        "print(\"the most negative: \", max([i for i in predictions if i[\"prediction\"]==\"negative\"],key=lambda x: x[\"prediction_confidence\"]))"
      ]
    },
    {
      "cell_type": "markdown",
      "metadata": {},
      "source": [
        "# Transfer learning\n",
        "What if we wanted the model to do something new, e.g.:\n",
        " - make the model better\n",
        " - do something slightly else (e.g.predict positivity score instead of classification)\n",
        "\n",
        "As is, the model obviously understands something about czech language.\n",
        "This knowledge is mostly in the first layers of the model, while the last layers are related more to taking this knowledge and aggregating it to predictions.\n",
        "\n",
        "So we have two options:\n",
        "\n",
        "## Fine tuning:\n",
        "We cut off last few layers of the model, and replace them with the layers that better suits our new needs (e.g. if we wanted more than three classes, we would put a layer that outputs more numbers than 3). If the task doesn't require different architecture, we don't need to do this.\n",
        "\n",
        "And then we train the whole model again on new data.\n",
        "\n",
        "Positives:\n",
        " - best performance\n",
        "Negatives:\n",
        " - the model is huge and slow\n",
        " - the model is hard to train\n",
        "\n",
        "## Embeddinggs:\n",
        "We cut off the last few layers of the model, and use the output of the last layer we left there as input to a completely new model we will train on it.\n",
        "\n",
        "This output of some internal hidden layere of the network is usually called \"embedding\". Since internal layers are usually large, it often has many dimensions (e.g. for transformers it could be 256 or 512). The hope is, that this embedding reflects high level features that summarize the data, but is yet not specific to the task we trained the model on.\n",
        "\n",
        "Negatives:\n",
        " - likely not as good as retraining whole model\n",
        "\n",
        "Positives:\n",
        " - faster training\n",
        " - other good uses of embeddings (e.g. you can search for simmilar records in the dataset by comparing their embeddings mathematically) \n"
      ]
    }
  ],
  "metadata": {
    "colab": {
      "collapsed_sections": [
        "COdcar5UEot5",
        "KbEbmQinG2OY",
        "2TIoBmL3G72S",
        "zXDOi4ZOLTay"
      ],
      "provenance": []
    },
    "kernelspec": {
      "display_name": "Python 3.11.0 64-bit",
      "language": "python",
      "name": "python3"
    },
    "language_info": {
      "name": "python",
      "version": "3.11.0"
    },
    "vscode": {
      "interpreter": {
        "hash": "1a1af0ee75eeea9e2e1ee996c87e7a2b11a0bebd85af04bb136d915cefc0abce"
      }
    }
  },
  "nbformat": 4,
  "nbformat_minor": 0
}
