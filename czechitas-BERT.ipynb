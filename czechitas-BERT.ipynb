{
  "cells": [
    {
      "cell_type": "markdown",
      "metadata": {
        "colab_type": "text",
        "id": "view-in-github"
      },
      "source": [
        "<a href=\"https://colab.research.google.com/github/janbogar/czechitas-transformers/blob/main/czechitas-BERT.ipynb\" target=\"_parent\"><img src=\"https://colab.research.google.com/assets/colab-badge.svg\" alt=\"Open In Colab\"/></a>"
      ]
    },
    {
      "cell_type": "markdown",
      "metadata": {
        "id": "COdcar5UEot5"
      },
      "source": [
        "# Transformers for text processing\n",
        "\n",
        "Transformers are neural networks that changed how we model sequential data.\n",
        "\n",
        "There are many kinds of data that are sequential in nature, for example time series, but e.g. a text is also just a sequence of words.\n",
        "\n",
        "State of the art in these areas used to be recurrent neural networks. They work by sequentially taking as an input not just each item in the sequence, but also the output of the network on the previous item. This way, the output of the network can contain the memory of what happened previously.\n",
        "\n",
        "The problem with recurrent neural networks was difficulty of training them in parallel. They also had trouble learning relationships between words that were far away from each other.\n",
        "\n",
        "Transformers work quite differently. All of the sequence is shown to the network at once, and a special architecture called attention head (transformers usually have multiple) predict to which parts of sentence should the network pay attention when processing each word.\n",
        "\n",
        "Famous language models based on transformers are e.g. BERT and GPT3, but there are many more variants, such as RoBERTa, ALBERT, sBERT or ELECTRA.\n",
        "\n",
        "# Model\n",
        "In this notebook we will use BERT model trained and published by researches at West Bohemia University. The model is called Czert and the authors experimented with it on many tasks:\n",
        " - Sequence Classification (**Sentiment Classification**, Multi-label Document Classification)\n",
        " - Sequence Pair Classification (Semantic Text Similarity)\n",
        " - Token Classification (Morphological Tagging, Named Entity Recognition,\n",
        "Semantic Role Labeling)\n",
        "\n",
        "The model:\n",
        "https://huggingface.co/UWB-AIR/Czert-B-base-cased\n",
        "\n",
        "The paper:\n",
        "https://arxiv.org/pdf/2103.13031.pdf\n",
        "\n",
        "# Sentiment analysis\n",
        "\n",
        "In this notebook, we will use the model trained specifically for sentiment analysis. In the sentiment analysis task, the model attempts to classify short texts (often social media statuses or customer reviews) as either positive, negative or neutral.\n",
        "\n",
        "The authors published two versions of the model, one trained on reviews from www.csfd.cz and the other trained on facebook posts. Both datasets are available on their website.\n",
        "\n",
        "The authors claim, that this model had F1 score of 77% on CSFD data and 85% percent on FB data, which they claim are better than the state of the art before this model was published.\n",
        "F1 score is hard to interpret without knowledge of precision and recall metrics, but for now, let's just say it corresponds somehow to the accuracy of the model.\n",
        "\n",
        "If the model had 75% accuracy, it would still make an error in one quarter of cases. That means that there is still a huge potential for error.\n",
        "This is something to keep in mind whenever you are deciding on a specific model: what is the minimal acceptable accuracy for my use-case?\n",
        "\n",
        "In the following cells, we will download this model and attempt to use it."
      ]
    },
    {
      "cell_type": "markdown",
      "metadata": {
        "id": "KbEbmQinG2OY"
      },
      "source": [
        "## Install dependencies"
      ]
    },
    {
      "cell_type": "code",
      "execution_count": null,
      "metadata": {
        "id": "uJMC7riyHlHt"
      },
      "outputs": [],
      "source": [
        "!pip install transformers\n",
        "!pip install sentencepiece"
      ]
    },
    {
      "cell_type": "markdown",
      "metadata": {
        "id": "2TIoBmL3G72S"
      },
      "source": [
        "**!! Restart runtime after installing !!**\n",
        "\n",
        "Go to the top of the page, press 'Runtime\" and select \"Restart runtime\".\n",
        "\n",
        "## Download model\n",
        "There are two variants of the model, we will download the one trained on FB data and unzip it."
      ]
    },
    {
      "cell_type": "code",
      "execution_count": 59,
      "metadata": {
        "colab": {
          "base_uri": "https://localhost:8080/"
        },
        "id": "_i4GED7la5y2",
        "outputId": "b3bf1ec5-9fef-4cd1-f84e-8be5eb1da502"
      },
      "outputs": [
        {
          "name": "stdout",
          "output_type": "stream",
          "text": [
            "--2022-12-05 12:11:00--  https://air.kiv.zcu.cz/public/CZERT-B_fb.zip\n",
            "Resolving air.kiv.zcu.cz (air.kiv.zcu.cz)... 147.228.63.35\n",
            "Connecting to air.kiv.zcu.cz (air.kiv.zcu.cz)|147.228.63.35|:443... connected.\n",
            "HTTP request sent, awaiting response... 200 OK\n",
            "Length: 406510308 (388M) [application/zip]\n",
            "Saving to: ‘CZERT-B_fb.zip.2’\n",
            "\n",
            "CZERT-B_fb.zip.2    100%[===================>] 387.68M  7.30MB/s    in 59s     \n",
            "\n",
            "2022-12-05 12:12:00 (6.56 MB/s) - ‘CZERT-B_fb.zip.2’ saved [406510308/406510308]\n",
            "\n"
          ]
        }
      ],
      "source": [
        "#!wget https://air.kiv.zcu.cz/public/CZERT-B_csfd.zip\n",
        "!wget https://air.kiv.zcu.cz/public/CZERT-B_fb.zip"
      ]
    },
    {
      "cell_type": "code",
      "execution_count": 60,
      "metadata": {
        "colab": {
          "base_uri": "https://localhost:8080/"
        },
        "id": "ygk6MRCIa--G",
        "outputId": "47342162-3c69-4749-fd0c-2198730345f1"
      },
      "outputs": [
        {
          "name": "stdout",
          "output_type": "stream",
          "text": [
            "Archive:  CZERT-B_fb.zip\n",
            "  inflating: CZERT-B_fb_BS-32_EC-12_LR-0-0000020_LEN-64_SCH-linear_wrp_CPU-True_TRAIN-True_CUST_LAYER-False_BINARY-False_2020-11-30_13-00_40-335326_F1-0.7598/config.json  \n",
            "  inflating: CZERT-B_fb_BS-32_EC-12_LR-0-0000020_LEN-64_SCH-linear_wrp_CPU-True_TRAIN-True_CUST_LAYER-False_BINARY-False_2020-11-30_13-00_40-335326_F1-0.7598/pytorch_model.bin  \n",
            "  inflating: CZERT-B_fb_BS-32_EC-12_LR-0-0000020_LEN-64_SCH-linear_wrp_CPU-True_TRAIN-True_CUST_LAYER-False_BINARY-False_2020-11-30_13-00_40-335326_F1-0.7598/special_tokens_map.json  \n",
            "  inflating: CZERT-B_fb_BS-32_EC-12_LR-0-0000020_LEN-64_SCH-linear_wrp_CPU-True_TRAIN-True_CUST_LAYER-False_BINARY-False_2020-11-30_13-00_40-335326_F1-0.7598/tokenizer_config.json  \n",
            "  inflating: CZERT-B_fb_BS-32_EC-12_LR-0-0000020_LEN-64_SCH-linear_wrp_CPU-True_TRAIN-True_CUST_LAYER-False_BINARY-False_2020-11-30_13-00_40-335326_F1-0.7598/vocab.txt  \n"
          ]
        }
      ],
      "source": [
        "!unzip -o CZERT-B_fb.zip"
      ]
    },
    {
      "cell_type": "markdown",
      "metadata": {
        "id": "e423bsPjKsZm"
      },
      "source": [
        "# Load the model\n",
        "This model is implemented as a HuggingFace transformer. \n",
        "This means they have a very convenient API and can be easily loaded and reused.\n",
        "I highly recommend their course at:\n",
        "https://huggingface.co/course/chapter1/1"
      ]
    },
    {
      "cell_type": "code",
      "execution_count": 61,
      "metadata": {
        "id": "vyrXlWYEHyHb"
      },
      "outputs": [],
      "source": [
        "from transformers import AutoTokenizer, BertForSequenceClassification\n",
        "import tensorflow\n",
        "\n",
        "#model_path=\"CZERT-B_csfd_BS-14_EC-12_LR-0-0000200_LEN-512_SCH-linear_wrp_CPU-False_TRAIN-True_CUST_LAYER-False_BINARY-False_2020-12-06_10-30_07-494882_F1-0.8467/\"\n",
        "model_path=\"CZERT-B_fb_BS-32_EC-12_LR-0-0000020_LEN-64_SCH-linear_wrp_CPU-True_TRAIN-True_CUST_LAYER-False_BINARY-False_2020-11-30_13-00_40-335326_F1-0.7598\"\n",
        "\n",
        "model = BertForSequenceClassification.from_pretrained(model_path)\n",
        "tokenizer = AutoTokenizer.from_pretrained(model_path)"
      ]
    },
    {
      "cell_type": "markdown",
      "metadata": {
        "id": "zXDOi4ZOLTay"
      },
      "source": [
        "## What is a tokenizer\n",
        "\n",
        "Neural networks accept as an input vectors or matrices of numbers, so we need to turn texts that we want to input into the model into vectors.\n",
        "\n",
        "Tokenizer is a program that does that. It splits the data into tokens and then assigns each token a number.\n",
        "There is no universally optimal way to tokenize text and many approaches can be used, depending on the specific use case.\n",
        "Transformers usually use sub-word tokenization. Here is an example:\n"
      ]
    },
    {
      "cell_type": "code",
      "execution_count": 62,
      "metadata": {
        "colab": {
          "base_uri": "https://localhost:8080/"
        },
        "id": "C29Q_Bn3LSnu",
        "outputId": "85ff4575-2aba-42e1-d1c5-2e5ef16deb64"
      },
      "outputs": [
        {
          "name": "stdout",
          "output_type": "stream",
          "text": [
            "tokens: '[CLS]' 'za' 'hory' ',' 'za' 'dol' '##y' ',' 'me' 'zlat' '##e' 'par' '##oh' '##y' '[SEP]'\n",
            "encoding:  [2, 1967, 12378, 16, 1967, 10864, 1036, 16, 2913, 7218, 1011, 2667, 2596, 1036, 3]\n"
          ]
        }
      ],
      "source": [
        "sentence = \"Za hory, za doly, mé zlaté parohy\"\n",
        "sentence_tokens = [\"[CLS]\"] + tokenizer.tokenize(sentence) + [\"[SEP]\"]\n",
        "sentence_encoding=tokenizer.encode(sentence)\n",
        "print(\"tokens:\" ,\" \".join([f\"\\'{i}\\'\" for i in sentence_tokens]))   \n",
        "print(\"encoding: \",sentence_encoding)\n"
      ]
    },
    {
      "cell_type": "markdown",
      "metadata": {
        "id": "lZJQL6rHMe7o"
      },
      "source": [
        "The tokenizer split some words into multiple tokens and added special tokens and marks:\n",
        " - `[CLS]` token is always added at the start of the text. Transformer outputs one vector per each token, and the vector for `[CLS]` token is used for the classification of whole sentences.\n",
        "\n",
        "- `[SEP]` token: transformers are also trained on tasks including relationship of multiple texts. In that case, texts are separated by this special token.\n",
        "\n",
        "- `[PAD]` token was not used in this case, but if there is a need to make multiple sequences the same length, the unused space is filled with `[PAD]` tokens.\n",
        "\n",
        "- `##oh` token: the word `parohy` was split into tokens `par`,`oh` and `y`. To signal to the model that the tokens `oh` and `y` were not at the start of the word, they are prepended with `##`.\n",
        "\n",
        "After splitting the text and adding special tokens, every token is turned into a number, based on its position in the vocabulary- the document containing all tokens known to the model. If some token is not in the vocabulary, it is replaced with a special token `[UNK]`. The vocabulary file was downloaded together with the model, and in this case contains one word per line, so if we want to see how many words it contains, we just count the lines in it:\n"
      ]
    },
    {
      "cell_type": "code",
      "execution_count": 63,
      "metadata": {
        "colab": {
          "base_uri": "https://localhost:8080/"
        },
        "id": "1uOVoCLgPBur",
        "outputId": "438510ea-cd6e-4436-f8a0-5f70b07294c2"
      },
      "outputs": [
        {
          "name": "stdout",
          "output_type": "stream",
          "text": [
            "30000 CZERT-B_fb_BS-32_EC-12_LR-0-0000020_LEN-64_SCH-linear_wrp_CPU-True_TRAIN-True_CUST_LAYER-False_BINARY-False_2020-11-30_13-00_40-335326_F1-0.7598/vocab.txt\n"
          ]
        }
      ],
      "source": [
        "!wc -l CZERT-B_fb_BS-32_EC-12_LR-0-0000020_LEN-64_SCH-linear_wrp_CPU-True_TRAIN-True_CUST_LAYER-False_BINARY-False_2020-11-30_13-00_40-335326_F1-0.7598/vocab.txt"
      ]
    },
    {
      "cell_type": "markdown",
      "metadata": {
        "id": "2xaZy7fEPP-E"
      },
      "source": [
        "Here are the last 10 tokens in the vocabulary:"
      ]
    },
    {
      "cell_type": "code",
      "execution_count": 64,
      "metadata": {
        "colab": {
          "base_uri": "https://localhost:8080/"
        },
        "id": "uGXt5PTpPJKK",
        "outputId": "68eba2f7-6191-4f7f-df5a-d240f4a046d8"
      },
      "outputs": [
        {
          "name": "stdout",
          "output_type": "stream",
          "text": [
            "záchranář\n",
            "zahrála\n",
            "repr\n",
            "Britská\n",
            "stěže\n",
            "izp\n",
            "řešíme\n",
            "##váří\n",
            "##natý\n",
            "Jerem\n"
          ]
        }
      ],
      "source": [
        "! tail -n 10 CZERT-B_fb_BS-32_EC-12_LR-0-0000020_LEN-64_SCH-linear_wrp_CPU-True_TRAIN-True_CUST_LAYER-False_BINARY-False_2020-11-30_13-00_40-335326_F1-0.7598/vocab.txt"
      ]
    },
    {
      "cell_type": "markdown",
      "metadata": {
        "id": "56YW0johPDa5"
      },
      "source": [
        "# Using the model\n",
        "\n",
        "Now that we know how to preprocess the input texts, let's try the model on some examples."
      ]
    },
    {
      "cell_type": "code",
      "execution_count": 65,
      "metadata": {
        "colab": {
          "base_uri": "https://localhost:8080/"
        },
        "id": "964a4mMdTxTj",
        "outputId": "66ed8451-1604-493e-d1dd-c04e97a7e578"
      },
      "outputs": [
        {
          "name": "stdout",
          "output_type": "stream",
          "text": [
            "Raw sentences:\n",
            " ['Pivo je skvělý.', 'Pivo příšerně chutná, je nezdravé a je vstupnou bránou k alkoholizmu. Jednoduše fuj.', 'Dávam tomuhle pivu 50 procent.']\n",
            "\n",
            "Input of the model after tokenization:\n",
            " {'input_ids': tensor([[    2, 10671,  1955, 15584,  3312,    18,     3,     0,     0,     0,\n",
            "             0,     0,     0,     0,     0,     0,     0,     0,     0,     0,\n",
            "             0,     0,     0,     0,     0,     0,     0,     0,     0],\n",
            "        [    2, 10671, 10769,  9930,  2121, 24056,  1999,    16,  1955, 16840,\n",
            "          2059,  1011,    69,  1955,  4073,  2104,  4181,  1929,    79, 27696,\n",
            "          1021,  2028,    18,  4234,  2349, 11293,  1026,    18,     3],\n",
            "        [    2, 10203,  2058,  2555,  3045,  8828,  1025,  3784,  2662,    18,\n",
            "             3,     0,     0,     0,     0,     0,     0,     0,     0,     0,\n",
            "             0,     0,     0,     0,     0,     0,     0,     0,     0]]), 'token_type_ids': tensor([[0, 0, 0, 0, 0, 0, 0, 0, 0, 0, 0, 0, 0, 0, 0, 0, 0, 0, 0, 0, 0, 0, 0, 0,\n",
            "         0, 0, 0, 0, 0],\n",
            "        [0, 0, 0, 0, 0, 0, 0, 0, 0, 0, 0, 0, 0, 0, 0, 0, 0, 0, 0, 0, 0, 0, 0, 0,\n",
            "         0, 0, 0, 0, 0],\n",
            "        [0, 0, 0, 0, 0, 0, 0, 0, 0, 0, 0, 0, 0, 0, 0, 0, 0, 0, 0, 0, 0, 0, 0, 0,\n",
            "         0, 0, 0, 0, 0]]), 'attention_mask': tensor([[1, 1, 1, 1, 1, 1, 1, 0, 0, 0, 0, 0, 0, 0, 0, 0, 0, 0, 0, 0, 0, 0, 0, 0,\n",
            "         0, 0, 0, 0, 0],\n",
            "        [1, 1, 1, 1, 1, 1, 1, 1, 1, 1, 1, 1, 1, 1, 1, 1, 1, 1, 1, 1, 1, 1, 1, 1,\n",
            "         1, 1, 1, 1, 1],\n",
            "        [1, 1, 1, 1, 1, 1, 1, 1, 1, 1, 1, 0, 0, 0, 0, 0, 0, 0, 0, 0, 0, 0, 0, 0,\n",
            "         0, 0, 0, 0, 0]])}\n",
            "\n",
            "Output of the model:\n",
            " SequenceClassifierOutput(loss=None, logits=tensor([[-2.2283,  3.5561, -0.5077],\n",
            "        [ 3.0172, -1.6817, -1.5079],\n",
            "        [-0.4129, -0.8393,  1.8872]], grad_fn=<AddmmBackward>), hidden_states=None, attentions=None)\n"
          ]
        }
      ],
      "source": [
        "test_strings = [\"Pivo je skvělý.\",\"Pivo příšerně chutná, je nezdravé a je vstupnou bránou k alkoholizmu. Jednoduše fuj.\",\"Dávam tomuhle pivu 50 procent.\"]\n",
        "\n",
        "print(\"Raw sentences:\\n\",test_strings)\n",
        "tokenized_inputs = tokenizer(test_strings, return_tensors=\"pt\", padding=True)\n",
        "print(\"\\nInput of the model after tokenization:\\n\", tokenized_inputs)\n",
        "\n",
        "outputs = model(**tokenized_inputs)\n",
        "print(\"\\nOutput of the model:\\n\", outputs)"
      ]
    },
    {
      "cell_type": "markdown",
      "metadata": {
        "id": "c1boirDMPous"
      },
      "source": [
        "As we can see, the output of the model contains a matrix of numbers called logits.\n",
        "Logits are numbers between minus infinity and  plus infinity that represent probability. They can be turned into probability distribution (i.e. a set of numbers between 0 and 1 that together add up to 1) by softmax function.\n"
      ]
    },
    {
      "cell_type": "code",
      "execution_count": 66,
      "metadata": {
        "colab": {
          "base_uri": "https://localhost:8080/"
        },
        "id": "vE2ch4Pei4Zm",
        "outputId": "b81a5afa-f1b3-4e0d-cebc-2b43e4eb8582"
      },
      "outputs": [
        {
          "name": "stderr",
          "output_type": "stream",
          "text": [
            "<ipython-input-66-45e692d90b33>:2: UserWarning: Implicit dimension choice for softmax has been deprecated. Change the call to include dim=X as an argument.\n",
            "  softmax(outputs.logits)  #turn into probabilities (so they are between 0 and 1 and sum into 1)\n"
          ]
        },
        {
          "data": {
            "text/plain": [
              "tensor([[0.0030, 0.9801, 0.0168],\n",
              "        [0.9805, 0.0089, 0.0106],\n",
              "        [0.0860, 0.0561, 0.8579]], grad_fn=<SoftmaxBackward>)"
            ]
          },
          "execution_count": 66,
          "metadata": {},
          "output_type": "execute_result"
        }
      ],
      "source": [
        "from torch.nn.functional import softmax\n",
        "softmax(outputs.logits)  #turn into probabilities (so they are between 0 and 1 and sum into 1)"
      ]
    },
    {
      "cell_type": "markdown",
      "metadata": {
        "id": "uBzXV_p0Rz70"
      },
      "source": [
        "Each row in this matrix is prediction for one input text. There are three numbers for each text:\n",
        " - probability of the text being negative\n",
        " - probability of the text being positive\n",
        " - probability of the text being neutral\n",
        "\n",
        "You can check yourself that they add to 1.\n",
        "\n",
        "\n",
        "In the next cells, we gather all of this code into one function, which will accept a list of texts and will make a prediction for each one.\n",
        "I also wrote a function that will print the prediction nicely."
      ]
    },
    {
      "cell_type": "code",
      "execution_count": 67,
      "metadata": {
        "id": "QbK7Ao-WeQF_"
      },
      "outputs": [],
      "source": [
        "import numpy as np\n",
        "\n",
        "id2label={0:\"negative\",1:\"positive\",2:\"neutral\"}\n",
        "label2id={v:k for k,v in id2label.items()}\n",
        "\n",
        "def get_predictions(texts):\n",
        "  \"\"\"Function that accepts a list of texts and outputs an iterator of dictionaries with predictions.\"\"\"\n",
        "  for text in texts:\n",
        "    tokens=tokenizer(text, return_tensors=\"pt\",truncation=\"only_first\",max_length=512)\n",
        "    model_output=model(**tokens)\n",
        "    probabilities=softmax(model_output.logits[0],dim=0).detach().numpy()\n",
        "    highest_probability=np.argmax(probabilities)\n",
        "    yield {\"text\":text,                                                          # input text\n",
        "           \"probabilities\":{k:probabilities[v] for k,v in label2id.items()},     # probabilities of each class (negative,positive and neutral)\n",
        "           \"prediction\":id2label[highest_probability],                           # prediction: the label of the class with highest probability\n",
        "           \"prediction_confidence\":probabilities[highest_probability]}           # prediction confidence: the probability of the class with the highest probability\n",
        "\n",
        "def print_predictions(predictions):\n",
        "  \"\"\"Function that prettyprints predictions produced by get_prediction function.\"\"\"\n",
        "  for i in predictions:\n",
        "    print(f\"{i['prediction']} ({i['prediction_confidence']:.2f}): \\\"{i['text']}\\\"\")"
      ]
    },
    {
      "cell_type": "code",
      "execution_count": 68,
      "metadata": {
        "colab": {
          "base_uri": "https://localhost:8080/"
        },
        "id": "ImBe0q5JluG9",
        "outputId": "14ab3251-d23f-448b-e718-ec5687b0cf23"
      },
      "outputs": [
        {
          "name": "stdout",
          "output_type": "stream",
          "text": [
            "positive (0.93): \"tohle je skvele, nejradeji bych to delal cely den\"\n",
            "negative (0.98): \"je to hrozna otrava, nejradeji bych to zakazal\"\n",
            "neutral (0.70): \"davam 50 procent, neurazi\"\n"
          ]
        }
      ],
      "source": [
        "example_texts=[\"tohle je skvele, nejradeji bych to delal cely den\",\"je to hrozna otrava, nejradeji bych to zakazal\",\"davam 50 procent, neurazi\"]\n",
        "\n",
        "print_predictions(get_predictions(example_texts))"
      ]
    },
    {
      "cell_type": "markdown",
      "metadata": {
        "id": "GejyBob2mv-k"
      },
      "source": [
        "## Exercise 1\n",
        "\n",
        "Use the code in the previous cell to find sentences that will fool the model in these ways:\n",
        " - the model will output negative if the sentence is positive\n",
        " - the model will output positive if the sentence is negative\n",
        " - the model will output neutral if the sentence is either positive or negative\n",
        " - the model will output positive or negative if the sentence is neutral\n",
        "\n",
        "Which one is the hardest?\n",
        "\n",
        "Which is harder, to fool the model if the text is long or if it is short?"
      ]
    },
    {
      "cell_type": "code",
      "execution_count": 14,
      "metadata": {
        "id": "TFeIzKf7n5dc"
      },
      "outputs": [],
      "source": [
        "#do the exercise!"
      ]
    },
    {
      "cell_type": "markdown",
      "metadata": {
        "id": "ZsW-iTmfXold"
      },
      "source": [
        "# Watching politicians\n",
        "\n",
        "Let's use this model for good: monitoring politicians.\n",
        "\n",
        "We can try to classify their posts on social media as positive, negative and neutral. Maybe that can tell us us something about their authors.\n",
        "\n",
        "# Where to get the data\n",
        "\n",
        "Luckily, there is a webpage called Hlidac Statu, which collected a huge dataset of social media interactions of czech politicians (and many other useful datasets).\n",
        "\n",
        "In the next few cells, we will write a function that will download this data.\n",
        "\n",
        "However to access it, you will need to register on www.hlidacstatu.cz\n",
        "To do so, follow these steps:\n",
        " - Go to https://www.hlidacstatu.cz/Identity/Account/Login?returnUrl=/\n",
        " - Login with your google account or register in other way\n",
        " - After logging in, click on your profile (top right corner)\n",
        " - In the menu on left, click the \"API klic\"\n",
        " - Copy the API key\n",
        " - Replace the string in the next code cell with your key"
      ]
    },
    {
      "cell_type": "code",
      "execution_count": 80,
      "metadata": {
        "id": "Qvbtaaz_uGJj"
      },
      "outputs": [],
      "source": [
        "auth_key=\"<your API key>\""
      ]
    },
    {
      "cell_type": "markdown",
      "metadata": {
        "id": "GWTe480AdXo_"
      },
      "source": [
        "This code uses the requests library to access the web API of Hlidac Statu and downloads one page of posts of Petr Fiala he made on Facebook.\n",
        "Pay attention to the params argument.\n",
        "\n",
        "We print out the first 5 texts."
      ]
    },
    {
      "cell_type": "code",
      "execution_count": 69,
      "metadata": {
        "id": "aqTMnxDkX31X"
      },
      "outputs": [],
      "source": [
        "import requests as rq"
      ]
    },
    {
      "cell_type": "code",
      "execution_count": 70,
      "metadata": {
        "colab": {
          "base_uri": "https://localhost:8080/"
        },
        "id": "LKRYgTxmuCUQ",
        "outputId": "43d6c778-ed64-4a57-f886-aa67821e9081"
      },
      "outputs": [
        {
          "data": {
            "text/plain": [
              "['',\n",
              " 'Děkuji za jednomyslnou nominaci na předsedu ODS delegátům jihočeské ODS. Gratuluji Martinu Kubovi k jasnému obhájení pozice předsedy regionu. Jihočeská ODS získala v nedávných parlamentních volbách nadprůměrný výsledek. V Janu Zahradníkovi a nově i v Janu Bauerovi mají jihočeští voliči výborné zástupce v Poslanecké sněmovně, kteří dobře reprezentují naši politiku.',\n",
              " 'Dnes se snaží Listopad 89 využít ve svůj prospěch různí populisté, extremisté, komunisté a dokonce bývalí agenti StB. Nedovolme jim to. \\n\\nPřipomínejme si, co se tehdy skutečně dělo, mluvme s lidmi, kteří si tu dobu pamatují, kteří se revoluce aktivně účastnili. Proto pořádáme sérii diskuzí na mnoha místech naší země. \\n\\nRád se s Vámi uvidím například 9. října v Praze. https://www.ods.cz/30-let-svobody/setkani',\n",
              " '\"Letní interview\" s moderátorkou Michaelou Šmídovou. Neobvyklé prostředí s krásným výhledem na Prahu, ale mluvili jsme hodně o Brně a o Moravě. :-) Kromě politiky jsme si povídali třeba o italské kuchyni, tenisu, víně, slivovici, prostě o spoustě příjemných věcí. Můžete sledovat dnes večer ve 22:50 na TV Nova.',\n",
              " 'Lipová na Děčínsku se o víkendu stala letošní vesnicí roku 2019. Proto jsem dnes telefonicky pogratuloval jejímu starostovi Pavlu Svobodovi. \\n\\nPan starosta v posledních komunálních volbách vedl v Lipové kandidátku ODS, která zvítězila se ziskem takřka 60 % hlasů. Další důkaz, že to v Lipové dělají dobře. ;-)']"
            ]
          },
          "execution_count": 70,
          "metadata": {},
          "output_type": "execute_result"
        }
      ],
      "source": [
        "response=rq.get(\"https://api.hlidacstatu.cz/Api/v2/datasety/vyjadreni-politiku/hledat\",params={'dotaz':\"server:Facebook AND osobaid:petr-fiala\",\"strana\":1},headers={\"Authorization\":auth_key})\n",
        "results=response.json()[\"results\"]\n",
        "texts=[i[\"text\"] for i in results]\n",
        "texts[:5]"
      ]
    },
    {
      "cell_type": "markdown",
      "metadata": {
        "id": "0hFLoWJ3d9VN"
      },
      "source": [
        "To simplify our workflow, we wrap this code up as a function in the next cell.\n",
        "This function downloads 300 latest Facebook posts of a chosen politician that are in the database.\n",
        "The name of the politician must be lowercased and the spaces in it exchanged for a `-` sign (due to the design of the database).\n",
        "\n",
        "So \"andrej-babis\" instead of \"Andrej Babis\""
      ]
    },
    {
      "cell_type": "code",
      "execution_count": 71,
      "metadata": {
        "id": "rk-DpUfpZxYk"
      },
      "outputs": [],
      "source": [
        "def get_page(name,page):\n",
        "  response=rq.get(\"https://api.hlidacstatu.cz/Api/v2/datasety/vyjadreni-politiku/hledat\",params={'dotaz':f\"server:Facebook AND osobaid:{name}\",\"strana\":{page},\"sort\":\"datum\",\"desc\":1},headers={\"Authorization\":auth_key})\n",
        "  return response.json()\n",
        "\n",
        "def get_texts(name,at_most=300):\n",
        "  \"\"\"\n",
        "  Download 300 newest posts of a politician in the database. Selects only posts made to Facebook.\n",
        "  \"\"\"\n",
        "  current_page=0\n",
        "  texts=[]\n",
        "  \n",
        "  page=get_page(name,current_page)\n",
        "  total_in_database=page[\"total\"]\n",
        "  print(\"total in database: \",total_in_database)\n",
        "\n",
        "  texts+=[i['text'] for i in page[\"results\"]]\n",
        "  print(f\"page: {current_page}, texts_so_far: {len(texts)}\")\n",
        "  \n",
        "  while not (len(texts)>=at_most or len(texts)>=total_in_database):\n",
        "    current_page+=1\n",
        "    page=get_page(name,current_page)\n",
        "    texts+=[i['text'] for i in page[\"results\"]]\n",
        "    print(f\"page: {current_page}, texts_so_far: {len(texts)}\")\n",
        "  \n",
        "  if len(texts)>at_most:\n",
        "    texts=texts[:at_most]\n",
        "  return texts"
      ]
    },
    {
      "cell_type": "markdown",
      "metadata": {
        "id": "GmYKyLuGehyk"
      },
      "source": [
        "Let's download the posts of Andrej Babiš."
      ]
    },
    {
      "cell_type": "code",
      "execution_count": 72,
      "metadata": {
        "colab": {
          "base_uri": "https://localhost:8080/"
        },
        "id": "FfAvUXttZyNA",
        "outputId": "97a01335-affe-43c6-e819-d8385f066675"
      },
      "outputs": [
        {
          "name": "stdout",
          "output_type": "stream",
          "text": [
            "total in database:  10308\n",
            "page: 0, texts_so_far: 25\n",
            "page: 1, texts_so_far: 50\n",
            "page: 2, texts_so_far: 75\n",
            "page: 3, texts_so_far: 100\n",
            "page: 4, texts_so_far: 125\n",
            "page: 5, texts_so_far: 150\n",
            "page: 6, texts_so_far: 175\n",
            "page: 7, texts_so_far: 200\n",
            "page: 8, texts_so_far: 225\n",
            "page: 9, texts_so_far: 250\n",
            "page: 10, texts_so_far: 275\n",
            "page: 11, texts_so_far: 300\n"
          ]
        }
      ],
      "source": [
        "name=\"andrej-babis\"\n",
        "texts=get_texts(name)\n"
      ]
    },
    {
      "cell_type": "markdown",
      "metadata": {
        "id": "aPKbsuK4fvi4"
      },
      "source": [
        "Now let's use the model to process these posts. It can take up to a few minutes, depending on the length of the posts. We than print the first five predictions."
      ]
    },
    {
      "cell_type": "code",
      "execution_count": 73,
      "metadata": {
        "colab": {
          "base_uri": "https://localhost:8080/"
        },
        "id": "dvWw2rio1t96",
        "outputId": "fa9f3d61-8432-4f79-e116-c752f3d65aa2"
      },
      "outputs": [
        {
          "name": "stderr",
          "output_type": "stream",
          "text": [
            "processing texts: 100%|██████████| 300/300 [00:38<00:00,  7.75it/s]\n"
          ]
        }
      ],
      "source": [
        "from tqdm import tqdm   # tqdm is a python package for nice progress bars\n",
        "\n",
        "predictions=list(tqdm(get_predictions(texts),total=len(texts),desc=\"processing texts\"))"
      ]
    },
    {
      "cell_type": "code",
      "execution_count": 74,
      "metadata": {
        "colab": {
          "base_uri": "https://localhost:8080/"
        },
        "id": "N8pGiQJqhIxb",
        "outputId": "d48eecc9-36d8-4f44-f15f-c0e06ee1e75f"
      },
      "outputs": [
        {
          "name": "stdout",
          "output_type": "stream",
          "text": [
            "positive (0.53): \"Je Nový rok. Velký svátek naší země a nás všech. A já mám něco na srdci ❤️\"\n",
            "neutral (0.98): \"Ode mě pro Vás. Můj neuvěřitelný rok 2021 ve fotkách. Třeba se tam najdete ❤️\"\n",
            "neutral (0.97): \"Kupuju obytňák!\"\n",
            "neutral (0.97): \"Kupuju obytňák!\"\n",
            "neutral (0.79): \"Je to tady. Kupuju obytňák!\"\n"
          ]
        }
      ],
      "source": [
        "print_predictions(predictions[:5])   # it seems the latest posts in the database are from the end of 2021"
      ]
    },
    {
      "cell_type": "markdown",
      "metadata": {
        "id": "ubW54ntjf12h"
      },
      "source": [
        "In the next cell, let's take a look at probability distribution of confidences of predicted labels."
      ]
    },
    {
      "cell_type": "code",
      "execution_count": 75,
      "metadata": {
        "colab": {
          "base_uri": "https://localhost:8080/",
          "height": 387
        },
        "id": "ezx9XXJX136L",
        "outputId": "746a759c-95aa-4c81-d832-f5720f684481"
      },
      "outputs": [
        {
          "data": {
            "text/plain": [
              "<seaborn.axisgrid.FacetGrid at 0x7f71a5c53c10>"
            ]
          },
          "execution_count": 75,
          "metadata": {},
          "output_type": "execute_result"
        },
        {
          "data": {
            "image/png": "[encoded data removed]",
            "text/plain": [
              "<Figure size 1080x360 with 3 Axes>"
            ]
          },
          "metadata": {
            "needs_background": "light"
          },
          "output_type": "display_data"
        }
      ],
      "source": [
        "import seaborn as sb\n",
        "import pandas as pd\n",
        "sb.displot(pd.DataFrame(predictions),x=\"prediction_confidence\",col=\"prediction\")"
      ]
    },
    {
      "cell_type": "markdown",
      "metadata": {
        "id": "rQd-x23zib6k"
      },
      "source": [
        "Looks like the model is usually only confident about neutral predictions of Andrej Babis (most such predictions have high confidence) and much less confident about the positive and negative predictions.\n",
        "\n",
        "------\n",
        "## Question 1:\n",
        "\n",
        "Is this because of the data (positive and negative statements are written in relatively neutral way, compared to the training data), or is it because of the model (model is somehow biased towards neutral sentences)?\n",
        "\n",
        "How could we find out?\n",
        "\n",
        "#### Author's opinion:\n",
        "\n",
        "Without an experiment, this question cannot be answered - it is impossible to say whether something is an error of the model or a real feature of the data without a deeper look at both the model and the data.\n",
        "\n",
        "The best way to do this is to prepare our own testing dataset.\n",
        "What I would do:\n",
        " - Select 500 (or maybe even 1000) random statuses. They should be from different politicians and from different times (so we avoid them being all about the same topic that was important at the time of their writing)\n",
        " - Read each one and label it as either positive, negative or neutral. With 3s per post, it should take less than half an hour.\n",
        " - Use the model to make a prediction for each post.\n",
        " - Calculate the confusion matrix. Confusion matrix is a table with columns corresponding to predicted labels, and rows to the actual labels. Each cell then contains the number of datapoints with given actual label and given predicted label, relative to the total number of datapoints. Confusion matrix of the best possible model would have zeroes everywhere but on a diagonal. Values outside of the diagonal are probabilities of the model committing different types of errors (we already encountered different kinds of errors in the Exercise 1. Which cells in the confusion matrix corresponds to which kind of error?)). This alone should answer whether the model is biased towards classifying posts as neutral or not. Confusion matrix is one of the most valuable concepts for the model performance analysis.\n",
        " - Analyze some of the errors of the model. Print out 10 posts that were erroneously classified with the highest confidence (maybe do so for each error category, i.e. Neutral to Positive, Positive to negative, etc.) and read them. Is there some pattern? What kind of errors are these? This will help you understand what kind of errors is the model making and also set the threshold for confidence of the predictions (there are also more rigorous ways of doing this, but this is good for now).\n",
        "\n",
        "-------\n",
        "\n",
        "Let's say we would like to select the most extreme examples of politicians posts on the sentiment spectrum. In the next cell, we attempt to do this by selecting the positive/negative posts with the highest confidence.\n",
        "\n"
      ]
    },
    {
      "cell_type": "code",
      "execution_count": 76,
      "metadata": {
        "colab": {
          "base_uri": "https://localhost:8080/"
        },
        "id": "cD7c7buU6zsl",
        "outputId": "1ff82b29-4fbb-4547-c364-43cf1ca3b799"
      },
      "outputs": [
        {
          "name": "stdout",
          "output_type": "stream",
          "text": [
            "highest positive confidence:  {'text': 'Je tady fajn 🚴\\u200d♀️😂', 'probabilities': {'negative': 0.002989264, 'positive': 0.9914219, 'neutral': 0.0055887913}, 'prediction': 'positive', 'prediction_confidence': 0.9914219}\n",
            "highest negative confidence:  {'text': 'Už to do zítra nevydržím, tady to máte.', 'probabilities': {'negative': 0.9691094, 'positive': 0.003227884, 'neutral': 0.02766266}, 'prediction': 'negative', 'prediction_confidence': 0.9691094}\n"
          ]
        }
      ],
      "source": [
        "print(\"highest positive confidence: \", max([i for i in predictions if i[\"prediction\"]==\"positive\"],key=lambda x: x[\"prediction_confidence\"]))\n",
        "print(\"highest negative confidence: \", max([i for i in predictions if i[\"prediction\"]==\"negative\"],key=lambda x: x[\"prediction_confidence\"]))"
      ]
    },
    {
      "cell_type": "markdown",
      "metadata": {},
      "source": [
        "## Question 2:\n",
        "\n",
        "The previous cell contains the posts where the model was the most confident about them being either positive or negative. Is it the same thing as the posts actually being \"the most positive / the most negative\"?\n",
        "\n",
        "What would we need to do to get these answers from the model?\n",
        "\n",
        "#### Author's opinion\n",
        "It's always necessary to keep in mind what the model output actually means.\n",
        "\n",
        "There are two layers to this question. First, the obvious one:\n",
        "\n",
        "Confidence is not intensity. The confidence measures how much the model is sure of its answer. As an example, imagine a post which is strongly negative, but which uses a complicated metaphor or sarcasm to express that. The model would likely have low confidence in its prediction, even though the intensity of the sentiment would be really strong.\n",
        "\n",
        "We can only get the information about the intensity of the sentiment from our three classes: negative, neutral or positive. If we wanted a more detailed resolution, we could e.g. predict 5 classes: strongly negative, negative, neutral, positive and strongly positive. Or we could, instead of classification, train the model to do regression, i.e. predict for each post a single sentiment score, e.g. a real number from -1 to 1. In both of these cases, we would have to retrain the model, because it just wasn't trained to do any of this.\n",
        "\n",
        "The second layer to this question is that the confidence itself means something else to us humans than it does to the model.\n",
        "Confidence of the model is a measure of how far in the feature space is the specific post from the decision boundary.\n",
        "For humans, confidence reflects how likely it is that unknown facts could change their conclusion. A post for which humans have high confidence can have low confidence for the model, and the other way round.\n",
        "\n",
        "-----------"
      ]
    },
    {
      "cell_type": "markdown",
      "metadata": {
        "id": "R_zl2kjdlNdX"
      },
      "source": [
        "Let's look at the overall number of posts that are positive or negative.\n",
        "\n",
        "We will select a threshold of 0.9 as a confidence threshold, above which we trust the model.\n",
        "If the confidence is lower, we leave the post unclassified."
      ]
    },
    {
      "cell_type": "code",
      "execution_count": 77,
      "metadata": {
        "colab": {
          "base_uri": "https://localhost:8080/",
          "height": 283
        },
        "id": "HKWbPP1cCD6-",
        "outputId": "5a0fb1b3-fa0c-4728-8d54-dba1e79832d4"
      },
      "outputs": [
        {
          "data": {
            "image/png": "[encoded data removed]",
            "text/plain": [
              "<Figure size 432x288 with 1 Axes>"
            ]
          },
          "metadata": {
            "needs_background": "light"
          },
          "output_type": "display_data"
        }
      ],
      "source": [
        "from matplotlib import pyplot as plt\n",
        "threshold=0.9\n",
        "only_confident=[i[\"prediction\"] for i in predictions if i[\"prediction_confidence\"]>threshold]\n",
        "labels,counts=np.unique(only_confident,return_counts=True)\n",
        "counts=list(counts)\n",
        "labels=list(labels)\n",
        "counts+=[len(predictions)-len(only_confident)]\n",
        "labels+=[\"unclassified\"]\n",
        "plt.ylabel(\"counts\")\n",
        "plt.title(name)\n",
        "plt.bar(labels,counts)\n",
        "plt.show()"
      ]
    },
    {
      "cell_type": "markdown",
      "metadata": {
        "id": "Zl0V-U7RlidI"
      },
      "source": [
        "## Question 3\n",
        "What does this plot say?\n",
        "Does it match your expectations?\n",
        "Is the model good enough for us to make conclusions about the author of these posts?\n",
        "\n",
        "#### Author's opinion\n",
        "The most of the posts were classified as neutral, and the second most likely outcome was unclassified due to low model confidence.\n",
        "\n",
        "There are again two things to keep in mind here.\n",
        "First, our confidence threshold was selected without any rigorous process. Maybe it was set too high, or too low. If we did perform an error analysis as suggested in the Author's Opinion on Question 2, we should be able to tell whether we could trust these results a little better.\n",
        "\n",
        "However, without the error analysis, these results are untrustworthy.\n",
        "What if all the unclassified results were instead positive? Or negative? Although this is unlikely, the overall picture would be very different.\n",
        "\n",
        "Secondly, there is a problem of interpretation of the labels. What does \"positive\" even mean in this context? Is it hopeful and optimistic, or just \"not vulgar and hateful\"? This is not a property of the model, but of the dataset it was trained on.\n",
        "We can get a feel for this interpretation by looking at the original dataset on which the model was trained. Some feeling for this can also be gained from the error analysis itself: if the model usually classifies weakly positive posts as neutral, maybe the annotators of the training data just had a higher threshold for considering something positive. This is something to always keep in mind when interpreting the model results - the meaning of the labels can be different than we expect.\n",
        "\n",
        "From this and the previous questions, we see that even though our model was already trained, it is still useful to label a small test dataset ourselves, and perform a thorough model evaluation to ensure that our predictions are trustworthy and interpreted correctly.\n",
        "\n",
        "## Excercise 2\n",
        "In the next cell, see the results for another politician of your choice. Are they different?\n",
        "Post your results (plots, not texts) into the gallery with the name of the politician."
      ]
    },
    {
      "cell_type": "code",
      "execution_count": null,
      "metadata": {
        "colab": {
          "base_uri": "https://localhost:8080/"
        },
        "id": "UctFch8-EXAz",
        "outputId": "18334255-ac79-4ccc-9b9f-ebce970f6a64"
      },
      "outputs": [],
      "source": [
        "name=\"jozko-mrkvicka\"\n",
        "texts=get_texts(name)\n",
        "predictions=list(tqdm(get_predictions(texts),total=len(texts),desc=\"processing texts\"))\n",
        "\n",
        "sb.displot(pd.DataFrame(predictions),x=\"prediction_confidence\",col=\"prediction\")\n",
        "plt.show()\n",
        "\n",
        "threshold=0.9\n",
        "only_confident=[i[\"prediction\"] for i in predictions if i[\"prediction_confidence\"]>threshold]\n",
        "labels,counts=np.unique(only_confident,return_counts=True)\n",
        "counts=list(counts)\n",
        "labels=list(labels)\n",
        "counts+=[len(predictions)-len(only_confident)]\n",
        "labels+=[\"unclassified\"]\n",
        "plt.ylabel(\"counts\")\n",
        "plt.title(name)\n",
        "plt.bar(labels,counts)\n",
        "plt.show()\n",
        "\n",
        "print(\"highest positive confidence: \", max([i for i in predictions if i[\"prediction\"]==\"positive\"],key=lambda x: x[\"prediction_confidence\"]))\n",
        "print(\"highest negative confidence: \", max([i for i in predictions if i[\"prediction\"]==\"negative\"],key=lambda x: x[\"prediction_confidence\"]))"
      ]
    },
    {
      "cell_type": "markdown",
      "metadata": {},
      "source": [
        "# Appendix: Transfer learning\n",
        "In the discussion of the previous questions, we encountered a few cases in which it would be nice to have a model that does something slightly different than the model we already have.\n",
        "\n",
        "E.g. we might want to predict a positivity score with higher resolution than just negative, neutral and positive. Or, let's say we wouldn't want to classify the results as \"negative\", \"neutral\" and \"positive\", but as \"polarizing\", \"neutral\" and \"reconciliatory\". Another possibility is that we would find out in our model evaluation that the performance on our specific dataset is low, and we would like to improve it.\n",
        "\n",
        "In all of these cases we could make use of the so-called transfer learning.\n",
        "\n",
        "As is, the model obviously understands something about the czech language. It is assumed that in general, neural networks detect simple features in the first layers (in this case, the simplest being position and presence of words), and as we move into the deeper layers of the networks, the features are becoming more abstract and general (e.g. which word is the subject of the sentence). In the last layers of the model, these general features are combined to make a prediction on our specific task. If we wanted a new model for a similar task, we could leverage the general knowledge about the czech language that should be contained in the first layers of the model.\n",
        "\n",
        "We have two options how to do that:\n",
        "\n",
        "## Finetuning\n",
        "We cut off the last few layers of the model and replace them with the layers that better suit our new needs (e.g. we could change how many output classes is recognized by the output layer). If the task doesn't require different architecture, we can skip this step and just keep the network as is.\n",
        "\n",
        "Then we train the whole model again on a task specific dataset. This new dataset doesn't have to be as large as the original training dataset, because the model doesn't need to learn the rules of the czech language from it (the model already knows them), it only needs to learn how to perform the new specific task. It is likely that if we would do this, the layers that would change the most would be the last layers of the network. It is important to note that this approach doesn't rely on the model having general knowledge somewhere in its inner layers, it's just an advantage. If it is necessary for the training, weights in all of the layers can change. Because of this, this approach guarantees good performance. However, the disadvantage is we need to train all the parameters, which takes time.\n",
        "\n",
        "Positives:\n",
        " - best performance\n",
        "Negatives:\n",
        " - the model takes long to train\n",
        "\n",
        "## Embeddings\n",
        "We cut off the last few layers of the model, so that one of the hidden layers of the model is now an output layer. We feed or data into it and save the outputs. We then use these outputs as training data to train a smaller model to perform our task.\n",
        "\n",
        "The output of some internal hidden layer of the network we just mentioned is usually called an \"embedding\". Since internal layers are usually large, it often has many dimensions (e.g. for transformers it could be 256 or 512). The hope is that this embedding reflects all the relevant features of the data, but is not yet specific to our task.\n",
        "\n",
        "In theory, this is equivalent to finetuning the model, but forbidding the training of the first few layers. However, doing it this way is more practical and faster: the embeddings can be calculated for multiple datapoints in parallel, we don't have to recalculate them multiple times, and we can also use them for other tasks, unrelated to the training.\n",
        "\n",
        "Negatives:\n",
        " - likely not as good as retraining the whole model\n",
        "\n",
        "Positives:\n",
        " - faster training\n",
        " - other good uses of embeddings (e.g. you can search for similar records in the dataset by comparing their embeddings) \n",
        "\n",
        "This article contains a good discussion on this topic in the context of transformers: https://towardsdatascience.com/what-exactly-happens-when-we-fine-tune-bert-f5dc32885d76.\n"
      ]
    },
    {
      "cell_type": "markdown",
      "metadata": {},
      "source": []
    }
  ],
  "metadata": {
    "colab": {
      "collapsed_sections": [
        "COdcar5UEot5",
        "KbEbmQinG2OY",
        "2TIoBmL3G72S",
        "zXDOi4ZOLTay"
      ],
      "provenance": []
    },
    "kernelspec": {
      "display_name": "Python 3.8.10 64-bit",
      "language": "python",
      "name": "python3"
    },
    "language_info": {
      "codemirror_mode": {
        "name": "ipython",
        "version": 3
      },
      "file_extension": ".py",
      "mimetype": "text/x-python",
      "name": "python",
      "nbconvert_exporter": "python",
      "pygments_lexer": "ipython3",
      "version": "3.8.10"
    },
    "vscode": {
      "interpreter": {
        "hash": "916dbcbb3f70747c44a77c7bcd40155683ae19c65e1c03b4aa3499c5328201f1"
      }
    }
  },
  "nbformat": 4,
  "nbformat_minor": 0
}
